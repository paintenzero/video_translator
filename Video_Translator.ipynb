{
 "cells": [
  {
   "cell_type": "code",
   "execution_count": 1,
   "metadata": {
    "id": "J6fO5Omr9tHS"
   },
   "outputs": [],
   "source": [
    "DEEPL_API_KEY = \"\"\n",
    "YOUTUBE_VIDEO_URL = \"https://www.youtube.com/watch?v=iXGZDtc8dmk\" # \"https://youtu.be/B8ocYx5_64o?si=f4UIdzTXkGCIkv4X\"\n",
    "TARGET_LANGUAGE = \"DE\""
   ]
  },
  {
   "cell_type": "code",
   "execution_count": 2,
   "metadata": {},
   "outputs": [],
   "source": [
    "ffmpeg_path = '/usr/bin/ffmpeg'\n",
    "video_codec = 'hevc_nvenc'\n",
    "audio_codec = 'aac'\n",
    "audio_bitrate = '128k'"
   ]
  },
  {
   "cell_type": "markdown",
   "metadata": {
    "id": "n6X9URvocRDU"
   },
   "source": [
    "# Importing dependencies"
   ]
  },
  {
   "cell_type": "code",
   "execution_count": 3,
   "metadata": {},
   "outputs": [
    {
     "name": "stdout",
     "output_type": "stream",
     "text": [
      "Get:1 file:/var/cuda-repo-wsl-ubuntu-12-4-local  InRelease [1572 B]\n",
      "Get:1 file:/var/cuda-repo-wsl-ubuntu-12-4-local  InRelease [1572 B]\n",
      "Hit:2 http://archive.ubuntu.com/ubuntu jammy InRelease\n",
      "Hit:3 http://archive.ubuntu.com/ubuntu jammy-updates InRelease\n",
      "Hit:4 http://archive.ubuntu.com/ubuntu jammy-backports InRelease\n",
      "Hit:5 http://security.ubuntu.com/ubuntu jammy-security InRelease\n",
      "Reading package lists...\n",
      "Building dependency tree...\n",
      "Reading state information...\n",
      "39 packages can be upgraded. Run 'apt list --upgradable' to see them.\n",
      "Reading package lists...\n",
      "Building dependency tree...\n",
      "Reading state information...\n",
      "ffmpeg is already the newest version (7:4.4.2-0ubuntu0.22.04.1).\n",
      "0 upgraded, 0 newly installed, 0 to remove and 39 not upgraded.\n"
     ]
    }
   ],
   "source": [
    "!sudo apt update -q && sudo apt install -y -q ffmpeg"
   ]
  },
  {
   "cell_type": "code",
   "execution_count": 4,
   "metadata": {
    "colab": {
     "base_uri": "https://localhost:8080/"
    },
    "id": "v-K2un9XaVbp",
    "outputId": "399674aa-f5eb-4494-ee89-f3c24978d90f"
   },
   "outputs": [
    {
     "name": "stdout",
     "output_type": "stream",
     "text": [
      "Note: you may need to restart the kernel to use updated packages.\n"
     ]
    }
   ],
   "source": [
    "%pip install --quiet pytube openai-whisper deepl git+https://github.com/openai/whisper.git TTS python-ffmpeg~=2.0 groq\n",
    "![[ -e \"cache\" ]] || mkdir cache"
   ]
  },
  {
   "cell_type": "code",
   "execution_count": 5,
   "metadata": {},
   "outputs": [],
   "source": [
    "import locale\n",
    "locale.getpreferredencoding = lambda: \"UTF-8\""
   ]
  },
  {
   "cell_type": "markdown",
   "metadata": {
    "id": "8OiQwrEGcPyV"
   },
   "source": [
    "# Work with Audio"
   ]
  },
  {
   "cell_type": "code",
   "execution_count": 6,
   "metadata": {
    "id": "A0z6UMykaoIK"
   },
   "outputs": [],
   "source": [
    "from pytube import YouTube\n",
    "yt = YouTube(YOUTUBE_VIDEO_URL)"
   ]
  },
  {
   "cell_type": "code",
   "execution_count": 7,
   "metadata": {
    "colab": {
     "base_uri": "https://localhost:8080/",
     "height": 35
    },
    "id": "bb5aq-KKcBBV",
    "outputId": "8c4a2ff4-a8b8-4dab-b27e-64a93eb9d69e"
   },
   "outputs": [],
   "source": [
    "stream = yt.streams.filter(only_audio=True).first()\n",
    "dst_path = \"cache\"\n",
    "out_file = stream.download(output_path=dst_path, filename=\"original_audio.mp4\")"
   ]
  },
  {
   "cell_type": "code",
   "execution_count": 8,
   "metadata": {
    "colab": {
     "base_uri": "https://localhost:8080/",
     "height": 35
    },
    "id": "T72OeZ9OnCuo",
    "outputId": "2bd879e5-3b04-458e-8841-7adf08e33225"
   },
   "outputs": [
    {
     "data": {
      "text/plain": [
       "'/mnt/c/Users/Sergey/Documents/Projects/video_translator/cache/original_audio.mp4'"
      ]
     },
     "execution_count": 8,
     "metadata": {},
     "output_type": "execute_result"
    }
   ],
   "source": [
    "out_file"
   ]
  },
  {
   "cell_type": "markdown",
   "metadata": {
    "id": "_8CtbdvehW90"
   },
   "source": [
    "## Convert Audio to Text"
   ]
  },
  {
   "cell_type": "code",
   "execution_count": 9,
   "metadata": {},
   "outputs": [
    {
     "name": "stdout",
     "output_type": "stream",
     "text": [
      "Running on cuda\n"
     ]
    }
   ],
   "source": [
    "import torch\n",
    "# Get device\n",
    "device = \"cuda\" if torch.cuda.is_available() else \"cpu\"\n",
    "print(f\"Running on {device}\")\n",
    "if device == \"cuda\":\n",
    "    torch.backends.cudnn.enabled = False"
   ]
  },
  {
   "cell_type": "markdown",
   "metadata": {
    "id": "Ds8PIvqK-5Sn"
   },
   "source": [
    "Load whisper model"
   ]
  },
  {
   "cell_type": "code",
   "execution_count": 10,
   "metadata": {
    "colab": {
     "base_uri": "https://localhost:8080/"
    },
    "id": "2HUVjd8Sm1ST",
    "outputId": "6a20f3a1-58b9-4722-c3d8-8681ec66019c"
   },
   "outputs": [],
   "source": [
    "import whisper\n",
    "model = whisper.load_model(\"large-v3\", download_root=\"cache\", device=\"cpu\")"
   ]
  },
  {
   "cell_type": "markdown",
   "metadata": {
    "id": "ocIDREaO_AK3"
   },
   "source": [
    "Transcribe audio:"
   ]
  },
  {
   "cell_type": "code",
   "execution_count": 11,
   "metadata": {
    "id": "PXUTVjBA-_FD"
   },
   "outputs": [
    {
     "name": "stderr",
     "output_type": "stream",
     "text": [
      "/home/sergey/miniconda3/envs/pytrans/lib/python3.11/site-packages/whisper/transcribe.py:124: UserWarning: Performing inference on CPU when CUDA is available\n",
      "  warnings.warn(\"Performing inference on CPU when CUDA is available\")\n",
      "/home/sergey/miniconda3/envs/pytrans/lib/python3.11/site-packages/whisper/transcribe.py:126: UserWarning: FP16 is not supported on CPU; using FP32 instead\n",
      "  warnings.warn(\"FP16 is not supported on CPU; using FP32 instead\")\n"
     ]
    },
    {
     "name": "stdout",
     "output_type": "stream",
     "text": [
      "CPU times: user 44min 51s, sys: 45.2 s, total: 45min 37s\n",
      "Wall time: 6min 7s\n"
     ]
    }
   ],
   "source": [
    "%%time\n",
    "result = model.transcribe(out_file, word_timestamps=True)"
   ]
  },
  {
   "cell_type": "code",
   "execution_count": 12,
   "metadata": {},
   "outputs": [
    {
     "data": {
      "text/plain": [
       "\" Вот это рекорд. Короче, презентации Apple я, пожалуй, что и не вспомню. Отстрелялись за 35 минут. Ну а я могу еще быстрее. Цените, как сэкономлю вам время. Сначала был Тим Кук с его фирменным... Good morning. Welcome to Apple Park. Какой morning, Тим? Пять вечера по Москве, алё. Тем не менее, вспомнили Vision Pro и мартовский апдейт Air'ов. Дескать, их так любят все вокруг, что теперь это самый лучший ноут на 13 и 15 дюймов. И дальше сразу пошли iPad'ы. Сначала Air. Теперь он в двух размерах, на 11 и на 13 дюймов. У 13-дюймовой версии экран больше аж на 30%, а это значит, правильно, что больше людей влезет в групповой созвон по зуму. На месте осталось пространственное аудио, зато навалили басов изрядно. Цветов 4, все-таки приятненькие, но вы же все равно купите самый темный, ну. По железу. Внутри теперь M.2, который, очевидно, во всем быстрее. Ну и было бы странно, если бы он был медленнее, согласитесь. Особенно прирост в мощности заметен на фоне Air'а. На A14 тут аж в три раза быстрее все стало. Поддержка Magic Keyboard и Pencil'а имеется. Цена начинается от 600 и 800 долларов без налога за версию на 11 и 13 дюймов, соответственно. Дальше iPad Pro. Самые профессиональные профессионалы пользуются прошками, это понятно. Тут Apple в тяге сделать все тоньше и тоньше переплюнули аж сами себя. Модель на 11 дюймов 5,3 мм толщину, а 13-дюймовый всего 5,1. Это самый тонкий девайс Apple за всю историю. Интересно. Если его в трубочку свернуть, он сломается? Дисплей же теперь не просто дисплей, а OLED. И не просто OLED, а аж сдвоенный OLED. С яркостью 1000 нит по всему полю и пиком в 1600 нит. Уверен, что традиционно экран будет крышесносный. Железо. Вот тут вообще все интересно. Из-за тонкого корпуса M3 внутрь не влезал. Пришлось срочно придумывать M4, который влез. Система на чипе построена по 3-нанометровому техпроцессу второго поколения. Имеет 4 мощных ядра, 6 эффективных, 10-ядерную графику. И куча других фичей. И это все дело даже греться не должно, как сковородка. В конструкции применен графен. И логотип на задней крышке сделан из меди. По iPadOS сказали немного. Господин Уилл Хуи, так его зовут, че смеетесь серьезно, поведал про обновление Final Cut, новое приложение Final Cut Camera для продвинутой работы с мультиком на лету. И про Logic Pro, который тоже обновился и всячески стал лучше и еще более профессиональный. Если у вас еще остались деньги, то имейте ввиду, полностью переделали Magic Keyboard. Она теперь тоже тонкая, появился ряд функциональных клавиш и подрос трекпад. Цены 300 и 350 долларов, соответственно. Ну и мякотка, которую мы все ждали, наконец-то. Новый Apple Pencil Pro. Это вообще совершенно другой уровень. В кончике карандаша теперь новый сенсор и пенсил можно сжимать. Обновился гироскоп, а еще пенсил теперь ищется в локаторе. Работает с новой прошкой, эйром. Все. Че вы еще ждете? 130 долларов, касса там, идите оплачивайте. Ну и конечно же iPad mini, который очень нуждался в обновлении. Потому что ну с таким экраном в 24 году уже просто никуда. Так вот, про него даже особо-то и не вспомнили. На этом все. Всем пока. Субтитры сделал DimaTorzok\""
      ]
     },
     "execution_count": 12,
     "metadata": {},
     "output_type": "execute_result"
    }
   ],
   "source": [
    "result['text']"
   ]
  },
  {
   "cell_type": "markdown",
   "metadata": {},
   "source": [
    "## Segment into sentences with timestamps and translations"
   ]
  },
  {
   "cell_type": "code",
   "execution_count": 13,
   "metadata": {},
   "outputs": [],
   "source": [
    "import re\n",
    "def find_sentence_end(text):\n",
    "    # Regular expression to match a sentence ending with a period, question mark, or exclamation mark\n",
    "    pattern = r\"[.!?](?=\\s|$)\"\n",
    "\n",
    "    # Find all matches in the text\n",
    "    match = re.search(pattern, text)\n",
    "    if match:\n",
    "        return match.end()\n",
    "    else:\n",
    "        return -1\n",
    "\n",
    "segments = []\n",
    "partial_text = \"\"\n",
    "start_time = 0\n",
    "for s in result['segments']:\n",
    "    word_num = 0\n",
    "    if start_time == -1:\n",
    "        start_time = s['start']\n",
    "    partial_text += s['text']\n",
    "    sentence_end = find_sentence_end(partial_text)\n",
    "    while sentence_end > 0:\n",
    "        sentence = partial_text[:sentence_end].strip()\n",
    "        last_word = sentence.split()[-1]\n",
    "        next_start_time = s['end']\n",
    "        current_end_time = s['end']\n",
    "        while word_num < len(s[\"words\"]):\n",
    "            word_num += 1\n",
    "            if s['words'][word_num - 1]['word'].strip() == last_word:\n",
    "                current_end_time = s['words'][word_num - 1]['end']\n",
    "                if word_num < len(s[\"words\"]):\n",
    "                    next_start_time = s[\"words\"][word_num][\"start\"]\n",
    "                else:\n",
    "                    next_start_time = -1\n",
    "                break\n",
    "        if len(segments) > 0 and segments[-1]['end'] - start_time < 0.5 and segments[-1]['end'] - segments[-1]['start'] < 15:\n",
    "            # Very small pause between sentence and previous segment is small enough. Append it to previous segment\n",
    "            segments[-1]['text'] += f' {sentence}'\n",
    "            segments[-1]['end'] = current_end_time\n",
    "        else:\n",
    "            segments.append({\n",
    "                'text': sentence,\n",
    "                'start': start_time,\n",
    "                'end': current_end_time,\n",
    "            })\n",
    "        start_time = next_start_time\n",
    "        partial_text = partial_text[sentence_end:]\n",
    "        sentence_end = find_sentence_end(partial_text)"
   ]
  },
  {
   "cell_type": "markdown",
   "metadata": {},
   "source": [
    "For debug purposes"
   ]
  },
  {
   "cell_type": "code",
   "execution_count": 14,
   "metadata": {},
   "outputs": [
    {
     "name": "stdout",
     "output_type": "stream",
     "text": [
      "0 0 - 15.9: Вот это рекорд. Короче, презентации Apple я, пожалуй, что и не вспомню. Отстрелялись за 35 минут. Ну а я могу еще быстрее. Цените, как сэкономлю вам время. Сначала был Тим Кук с его фирменным... Good morning. Welcome to Apple Park. Какой morning, Тим?\n",
      "1 15.9 - 32.56: Пять вечера по Москве, алё. Тем не менее, вспомнили Vision Pro и мартовский апдейт Air'ов. Дескать, их так любят все вокруг, что теперь это самый лучший ноут на 13 и 15 дюймов. И дальше сразу пошли iPad'ы. Сначала Air. Теперь он в двух размерах, на 11 и на 13 дюймов.\n",
      "2 32.68 - 49.28: У 13-дюймовой версии экран больше аж на 30%, а это значит, правильно, что больше людей влезет в групповой созвон по зуму. На месте осталось пространственное аудио, зато навалили басов изрядно. Цветов 4, все-таки приятненькие, но вы же все равно купите самый темный, ну.\n",
      "3 49.36 - 64.62: По железу. Внутри теперь M.2, который, очевидно, во всем быстрее. Ну и было бы странно, если бы он был медленнее, согласитесь. Особенно прирост в мощности заметен на фоне Air'а. На A14 тут аж в три раза быстрее все стало. Поддержка Magic Keyboard и Pencil'а имеется.\n",
      "4 64.72 - 84.64: Цена начинается от 600 и 800 долларов без налога за версию на 11 и 13 дюймов, соответственно. Дальше iPad Pro. Самые профессиональные профессионалы пользуются прошками, это понятно. Тут Apple в тяге сделать все тоньше и тоньше переплюнули аж сами себя. Модель на 11 дюймов 5,3 мм толщину, а 13-дюймовый всего 5,1.\n",
      "5 84.64 - 102.76: Это самый тонкий девайс Apple за всю историю. Интересно. Если его в трубочку свернуть, он сломается? Дисплей же теперь не просто дисплей, а OLED. И не просто OLED, а аж сдвоенный OLED. С яркостью 1000 нит по всему полю и пиком в 1600 нит. Уверен, что традиционно экран будет крышесносный.\n",
      "6 103.18 - 118.42: Железо. Вот тут вообще все интересно. Из-за тонкого корпуса M3 внутрь не влезал. Пришлось срочно придумывать M4, который влез. Система на чипе построена по 3-нанометровому техпроцессу второго поколения. Имеет 4 мощных ядра, 6 эффективных, 10-ядерную графику.\n",
      "7 118.46 - 139.16: И куча других фичей. И это все дело даже греться не должно, как сковородка. В конструкции применен графен. И логотип на задней крышке сделан из меди. По iPadOS сказали немного. Господин Уилл Хуи, так его зовут, че смеетесь серьезно, поведал про обновление Final Cut, новое приложение Final Cut Camera для продвинутой работы с мультиком на лету.\n",
      "8 139.18 - 154.66: И про Logic Pro, который тоже обновился и всячески стал лучше и еще более профессиональный. Если у вас еще остались деньги, то имейте ввиду, полностью переделали Magic Keyboard. Она теперь тоже тонкая, появился ряд функциональных клавиш и подрос трекпад. Цены 300 и 350 долларов, соответственно.\n",
      "9 154.8 - 170.2: Ну и мякотка, которую мы все ждали, наконец-то. Новый Apple Pencil Pro. Это вообще совершенно другой уровень. В кончике карандаша теперь новый сенсор и пенсил можно сжимать. Обновился гироскоп, а еще пенсил теперь ищется в локаторе. Работает с новой прошкой, эйром.\n",
      "10 170.4 - 185.88: Все. Че вы еще ждете? 130 долларов, касса там, идите оплачивайте. Ну и конечно же iPad mini, который очень нуждался в обновлении. Потому что ну с таким экраном в 24 году уже просто никуда. Так вот, про него даже особо-то и не вспомнили. На этом все. Всем пока.\n"
     ]
    }
   ],
   "source": [
    "for i in range(0, len(segments)):\n",
    "    print(f\"{i} {segments[i]['start']} - {segments[i]['end']}: {segments[i]['text']}\")"
   ]
  },
  {
   "cell_type": "markdown",
   "metadata": {},
   "source": [
    "## Translate segments"
   ]
  },
  {
   "cell_type": "code",
   "execution_count": 15,
   "metadata": {},
   "outputs": [
    {
     "name": "stdout",
     "output_type": "stream",
     "text": [
      "CPU times: user 57.9 ms, sys: 24 µs, total: 58 ms\n",
      "Wall time: 5.16 s\n"
     ]
    }
   ],
   "source": [
    "%%time\n",
    "import deepl\n",
    "translator = deepl.Translator(DEEPL_API_KEY)\n",
    "\n",
    "for s in segments:\n",
    "    deepl_result = translator.translate_text(s['text'], target_lang=TARGET_LANGUAGE)\n",
    "    s['translated'] = deepl_result.text"
   ]
  },
  {
   "cell_type": "markdown",
   "metadata": {},
   "source": [
    "Debug the translation"
   ]
  },
  {
   "cell_type": "code",
   "execution_count": 16,
   "metadata": {},
   "outputs": [
    {
     "name": "stdout",
     "output_type": "stream",
     "text": [
      "0 0 - 15.9: Das ist ein Rekord. Ich glaube nicht, dass ich mich jemals an eine Apple Präsentation erinnern werde. Wir haben sie in 35 Minuten aufgenommen. Nun, ich kann es sogar noch schneller machen. Schätzen Sie die Zeit, die ich Ihnen erspare. Den Anfang machte Tim Cook mit seinem Markenzeichen... Guten Morgen. Willkommen im Apple Park. Was für ein Morgen, Tim? | Вот это рекорд. Короче, презентации Apple я, пожалуй, что и не вспомню. Отстрелялись за 35 минут. Ну а я могу еще быстрее. Цените, как сэкономлю вам время. Сначала был Тим Кук с его фирменным... Good morning. Welcome to Apple Park. Какой morning, Тим?\n",
      "1 15.9 - 32.56: 17 Uhr Moskauer Zeit, hallo. Nichtsdestotrotz wurden der Vision Pro und das März-Update des Air's in Erinnerung gerufen. Sie sagen, dass jeder sie so sehr liebt, dass es jetzt der beste Laptop bei 13 und 15 Zoll ist. Und dann kamen die iPads. Zuerst das Air. Jetzt gibt es sie in zwei Größen, mit 11 und 13 Zoll. | Пять вечера по Москве, алё. Тем не менее, вспомнили Vision Pro и мартовский апдейт Air'ов. Дескать, их так любят все вокруг, что теперь это самый лучший ноут на 13 и 15 дюймов. И дальше сразу пошли iPad'ы. Сначала Air. Теперь он в двух размерах, на 11 и на 13 дюймов.\n",
      "2 32.68 - 49.28: Die 13-Zoll-Version hat einen 30 % größeren Bildschirm, was zu Recht bedeutet, dass mehr Personen an einem Gruppen-Zoomgespräch teilnehmen können. Spatial Audio ist an Ort und Stelle geblieben, aber sie haben auf eine Menge von Bass gehäuft. Farben 4, immer noch schön, aber Sie kaufen immer noch die dunkelste, gut. | У 13-дюймовой версии экран больше аж на 30%, а это значит, правильно, что больше людей влезет в групповой созвон по зуму. На месте осталось пространственное аудио, зато навалили басов изрядно. Цветов 4, все-таки приятненькие, но вы же все равно купите самый темный, ну.\n",
      "3 49.36 - 64.62: Hardware-mäßig. Im Inneren befindet sich jetzt M.2, was offensichtlich in allem schneller ist. Nun, es wäre seltsam, wenn es langsamer wäre, da muss man zustimmen. Vor allem der Leistungszuwachs ist im Vergleich zum Air spürbar. Mit A14 ist hier alles dreimal schneller geworden. Magic Keyboard und Pencil-Unterstützung sind verfügbar. | По железу. Внутри теперь M.2, который, очевидно, во всем быстрее. Ну и было бы странно, если бы он был медленнее, согласитесь. Особенно прирост в мощности заметен на фоне Air'а. На A14 тут аж в три раза быстрее все стало. Поддержка Magic Keyboard и Pencil'а имеется.\n",
      "4 64.72 - 84.64: Die Preise beginnen bei 600 $ bzw. 800 $ ohne Steuern für die 11- bzw. 13-Zoll-Version. Als nächstes kommt das iPad Pro. Die meisten professionellen Anwender verwenden Proks, das ist verständlich. Hier hat sich Apple in dem Bestreben, alles immer dünner zu machen, selbst übertroffen. Das 11-Zoll-Modell ist 5,3 mm dick, während das 13-Zoll-Modell nur 5,1 mm dick ist. | Цена начинается от 600 и 800 долларов без налога за версию на 11 и 13 дюймов, соответственно. Дальше iPad Pro. Самые профессиональные профессионалы пользуются прошками, это понятно. Тут Apple в тяге сделать все тоньше и тоньше переплюнули аж сами себя. Модель на 11 дюймов 5,3 мм толщину, а 13-дюймовый всего 5,1.\n",
      "5 84.64 - 102.76: Das ist das bisher dünnste Gerät von Apple. Ich frage mich. Wird es brechen, wenn man es in eine Röhre einrollt? Das Display ist nicht einfach nur ein Display, es ist OLED. Und es ist nicht nur ein OLED, sondern ein Dual-OLED. Mit einer Helligkeit von 1000 nits über das gesamte Feld und einer Spitze von 1600 nits. Ich bin sicher, dass der Bildschirm traditionell spektakulär sein wird. | Это самый тонкий девайс Apple за всю историю. Интересно. Если его в трубочку свернуть, он сломается? Дисплей же теперь не просто дисплей, а OLED. И не просто OLED, а аж сдвоенный OLED. С яркостью 1000 нит по всему полю и пиком в 1600 нит. Уверен, что традиционно экран будет крышесносный.\n",
      "6 103.18 - 118.42: Eisen. Das ist der Punkt, an dem es interessant wird. Aufgrund des dünnen Gehäuses konnte M3 nicht hineinpassen. Wir mussten dringend M4 erfinden, der dann doch hineinpasste. Das System auf dem Chip ist auf dem 3-Nanometer-Prozess der zweiten Generation aufgebaut. Es hat 4 leistungsstarke Kerne, 6 effiziente Kerne, 10-Kern-Grafik. | Железо. Вот тут вообще все интересно. Из-за тонкого корпуса M3 внутрь не влезал. Пришлось срочно придумывать M4, который влез. Система на чипе построена по 3-нанометровому техпроцессу второго поколения. Имеет 4 мощных ядра, 6 эффективных, 10-ядерную графику.\n",
      "7 118.46 - 139.16: Und einen Haufen anderer Funktionen. Und das Ganze soll sich nicht einmal wie eine Bratpfanne erhitzen. Es ist mit Graphen gebaut. Und das Logo auf der Rückseite ist aus Kupfer. Über iPadOS wurde noch nicht viel gesagt. Herr Will Hui, so heißt er, warum lachen Sie eigentlich, erzählte über das Final Cut Update, die neue Final Cut Camera Anwendung für die fortgeschrittene Arbeit mit Cartoons während der Arbeit. | И куча других фичей. И это все дело даже греться не должно, как сковородка. В конструкции применен графен. И логотип на задней крышке сделан из меди. По iPadOS сказали немного. Господин Уилл Хуи, так его зовут, че смеетесь серьезно, поведал про обновление Final Cut, новое приложение Final Cut Camera для продвинутой работы с мультиком на лету.\n",
      "8 139.18 - 154.66: Und Logic Pro, das ebenfalls aktualisiert und in jeder Hinsicht verbessert und noch professioneller gemacht wurde. Wenn du noch Geld übrig hast, solltest du bedenken, dass das Magic Keyboard komplett neu gestaltet wurde. Es ist jetzt auch schlanker, mit einer Reihe von Funktionstasten und einem größeren Trackpad. Die Preise liegen bei 300 $ bzw. 350 $. | И про Logic Pro, который тоже обновился и всячески стал лучше и еще более профессиональный. Если у вас еще остались деньги, то имейте ввиду, полностью переделали Magic Keyboard. Она теперь тоже тонкая, появился ряд функциональных клавиш и подрос трекпад. Цены 300 и 350 долларов, соответственно.\n",
      "9 154.8 - 170.2: Nun ist der Brei, auf den wir alle gewartet haben, endlich da. Der neue Apple Pencil Pro. Das ist ein ganz anderes Niveau. Es gibt einen neuen Sensor in der Spitze des Stiftes und der Pencil kann zusammengedrückt werden. Das Gyroskop wurde aktualisiert, und der Pencil kann jetzt auch im Locator gesucht werden. Funktioniert mit dem neuen Pro, Air. | Ну и мякотка, которую мы все ждали, наконец-то. Новый Apple Pencil Pro. Это вообще совершенно другой уровень. В кончике карандаша теперь новый сенсор и пенсил можно сжимать. Обновился гироскоп, а еще пенсил теперь ищется в локаторе. Работает с новой прошкой, эйром.\n",
      "10 170.4 - 185.88: Das war's. Worauf wartest du noch? 130 Dollar, die Kasse ist da drüben, geh bezahlen. Und natürlich das iPad mini, das dringend ein Upgrade brauchte. Denn mit so einem Bildschirm kann man im Jahr 24 nirgendwo hingehen. Also haben sie es nicht einmal erwähnt. Das war's dann. Auf Wiedersehen, allerseits. | Все. Че вы еще ждете? 130 долларов, касса там, идите оплачивайте. Ну и конечно же iPad mini, который очень нуждался в обновлении. Потому что ну с таким экраном в 24 году уже просто никуда. Так вот, про него даже особо-то и не вспомнили. На этом все. Всем пока.\n"
     ]
    }
   ],
   "source": [
    "for i in range(0, len(segments)):\n",
    "    print(f\"{i} {segments[i]['start']} - {segments[i]['end']}: {segments[i]['translated']} | {segments[i]['text']}\")"
   ]
  },
  {
   "cell_type": "markdown",
   "metadata": {
    "id": "G8jMznMUB5Am"
   },
   "source": [
    "## Make translated audio"
   ]
  },
  {
   "cell_type": "markdown",
   "metadata": {
    "id": "Iqy-wZjNCB3d"
   },
   "source": [
    "Make a sample audio to copy voice"
   ]
  },
  {
   "cell_type": "code",
   "execution_count": 17,
   "metadata": {
    "colab": {
     "base_uri": "https://localhost:8080/"
    },
    "id": "NWlf8QPrOCcb",
    "outputId": "66ac32c0-af70-44bf-d1b7-964180a820dd"
   },
   "outputs": [],
   "source": [
    "from random import randint\n",
    "from ffmpeg import FFmpeg\n",
    "\n",
    "def make_sample_audio(start, end, src_file, out_file):\n",
    "    # ffmpeg -i /content/1voAY7tAXAA.mp4 -acodec pcm_s16le -ar 22050 -ac 2 /content/sample.wav\n",
    "    ffmpeg = (\n",
    "        FFmpeg(ffmpeg_path)\n",
    "        .option('y')\n",
    "        .input(src_file)\n",
    "        .output(\n",
    "            out_file, \n",
    "            acodec=\"pcm_s16le\", \n",
    "            ar=24000,\n",
    "            ac=2,\n",
    "            af=f\"[0]atrim=start={start:.2f}:end={end:.2f}[t0]\"\n",
    "        )\n",
    "    )\n",
    "    print(ffmpeg.arguments)\n",
    "    ffmpeg.execute()"
   ]
  },
  {
   "cell_type": "markdown",
   "metadata": {
    "id": "e6HvrcSBCvvl"
   },
   "source": [
    "Create TTS engine"
   ]
  },
  {
   "cell_type": "code",
   "execution_count": 32,
   "metadata": {
    "colab": {
     "base_uri": "https://localhost:8080/"
    },
    "id": "AYJ89l0vCq73",
    "outputId": "3c6d952f-3c0c-4864-9e7e-d0a74904734b"
   },
   "outputs": [
    {
     "name": "stdout",
     "output_type": "stream",
     "text": [
      " > tts_models/de/thorsten/vits is already downloaded.\n",
      " > Using model: vits\n",
      " > Setting up Audio Processor...\n",
      " | > sample_rate:22050\n",
      " | > resample:False\n",
      " | > num_mels:80\n",
      " | > log_func:np.log10\n",
      " | > min_level_db:0\n",
      " | > frame_shift_ms:None\n",
      " | > frame_length_ms:None\n",
      " | > ref_level_db:None\n",
      " | > fft_size:1024\n",
      " | > power:None\n",
      " | > preemphasis:0.0\n",
      " | > griffin_lim_iters:None\n",
      " | > signal_norm:None\n",
      " | > symmetric_norm:None\n",
      " | > mel_fmin:0\n",
      " | > mel_fmax:None\n",
      " | > pitch_fmin:None\n",
      " | > pitch_fmax:None\n",
      " | > spec_gain:20.0\n",
      " | > stft_pad_mode:reflect\n",
      " | > max_norm:1.0\n",
      " | > clip_norm:True\n",
      " | > do_trim_silence:False\n",
      " | > trim_db:60\n",
      " | > do_sound_norm:False\n",
      " | > do_amp_to_db_linear:True\n",
      " | > do_amp_to_db_mel:True\n",
      " | > do_rms_norm:False\n",
      " | > db_level:None\n",
      " | > stats_path:None\n",
      " | > base:10\n",
      " | > hop_length:256\n",
      " | > win_length:1024\n",
      "CPU times: user 2.57 s, sys: 50.1 ms, total: 2.62 s\n",
      "Wall time: 874 ms\n"
     ]
    }
   ],
   "source": [
    "%%time\n",
    "from TTS.api import TTS\n",
    "\n",
    "multi_language = True\n",
    "multi_speaker = True\n",
    "# Init TTS\n",
    "if TARGET_LANGUAGE.lower() == 'de':\n",
    "    tts = TTS(\"tts_models/de/thorsten/vits\").to(device)\n",
    "    # tts = TTS(\"tts_models/de/thorsten/tacotron2-DDC\").to(device)\n",
    "    multi_language = False\n",
    "    multi_speaker = False\n",
    "else:\n",
    "    tts = TTS(\"tts_models/multilingual/multi-dataset/xtts_v2\").to(device)\n",
    "\n",
    "# Only english, french and Portuguese\n",
    "# tts = TTS(\"tts_models/multilingual/multi-dataset/your_tts\").to(\"cuda\")\n"
   ]
  },
  {
   "cell_type": "code",
   "execution_count": 33,
   "metadata": {
    "colab": {
     "base_uri": "https://localhost:8080/"
    },
    "id": "74jZy-uaC3ez",
    "outputId": "fe1ed5a3-368c-4aac-a051-a3d9490d4939"
   },
   "outputs": [
    {
     "data": {
      "application/vnd.jupyter.widget-view+json": {
       "model_id": "03d4d88dbde84caf8a407dd6f38f5b41",
       "version_major": 2,
       "version_minor": 0
      },
      "text/plain": [
       "IntProgress(value=0, max=11)"
      ]
     },
     "metadata": {},
     "output_type": "display_data"
    },
    {
     "name": "stdout",
     "output_type": "stream",
     "text": [
      "['/usr/bin/ffmpeg', '-y', '-i', '/mnt/c/Users/Sergey/Documents/Projects/video_translator/cache/original_audio.mp4', '-acodec', 'pcm_s16le', '-ar', '24000', '-ac', '2', '-af', '[0]atrim=start=15.90:end=32.56[t0]', 'cache/1_sample.wav']\n",
      " > Text splitted to sentences.\n",
      "['Das ist ein Rekord.', 'Ich glaube nicht, dass ich mich jemals an eine Apple Präsentation erinnern werde.', 'Wir haben sie in 35 Minuten aufgenommen.', 'Nun, ich kann es sogar noch schneller machen.', 'Schätzen Sie die Zeit, die ich Ihnen erspare.', 'Den Anfang machte Tim Cook mit seinem Markenzeichen...', 'Guten Morgen.', 'Willkommen im Apple Park.', 'Was für ein Morgen, Tim?']\n",
      "ɪç ɡlaoːbə nɪçt, das ɪç mɪç jeːmals ʔan ʔaɪ̯nə ʔapplə pʁɛzɛntatsɪoːn ʔɛːɐʔɪnnɛʁn vɛʁdə.\n",
      " [!] Character '̯' not found in the vocabulary. Discarding it.\n",
      " > Processing time: 1.011486530303955\n",
      " > Real-time factor: 0.03728647517921996\n",
      " > Text splitted to sentences.\n",
      "['17 Uhr Moskauer Zeit, hallo.', \"Nichtsdestotrotz wurden der Vision Pro und das März-Update des Air's in Erinnerung gerufen.\", 'Sie sagen, dass jeder sie so sehr liebt, dass es jetzt der beste Laptop bei 13 und 15 Zoll ist.', 'Und dann kamen die iPads.', 'Zuerst das Air.', 'Jetzt gibt es sie in zwei Größen, mit 11 und 13 Zoll.']\n",
      "jɛtst ɡiːpt ʔeːs ziː ʔɪn t͡svaɪ̯ ɡʁøːiːjən, mɪt ʔɛlf ʊnt dʁaɪ̯tseːn tsɔl.\n",
      " [!] Character '͡' not found in the vocabulary. Discarding it.\n",
      " > Processing time: 0.897601842880249\n",
      " > Real-time factor: 0.036359048254639446\n",
      " > Text splitted to sentences.\n",
      "['Die 13-Zoll-Version hat einen 30 % größeren Bildschirm, was zu Recht bedeutet, dass mehr Personen an einem Gruppen-Zoomgespräch teilnehmen können.', 'Spatial Audio ist an Ort und Stelle geblieben, aber sie haben auf eine Menge von Bass gehäuft.', 'Farben 4, immer noch schön, aber Sie kaufen immer noch die dunkelste, gut.']\n",
      " > Processing time: 0.6863529682159424\n",
      " > Real-time factor: 0.03341506285804203\n",
      " > Text splitted to sentences.\n",
      "['Hardware-mäßig.', 'Im Inneren befindet sich jetzt M.2, was offensichtlich in allem schneller ist.', 'Nun, es wäre seltsam, wenn es langsamer wäre, da muss man zustimmen.', 'Vor allem der Leistungszuwachs ist im Vergleich zum Air spürbar.', 'Mit A14 ist hier alles dreimal schneller geworden.', 'Magic Keyboard und Pencil-Unterstützung sind verfügbar.']\n",
      " > Processing time: 0.952470064163208\n",
      " > Real-time factor: 0.03987553336092475\n",
      " > Text splitted to sentences.\n",
      "['Die Preise beginnen bei 600 $ bzw.', '800 $ ohne Steuern für die 11- bzw.', '13-Zoll-Version.', 'Als nächstes kommt das iPad Pro.', 'Die meisten professionellen Anwender verwenden Proks, das ist verständlich.', 'Hier hat sich Apple in dem Bestreben, alles immer dünner zu machen, selbst übertroffen.', 'Das 11-Zoll-Modell ist 5,3 mm dick, während das 13-Zoll-Modell nur 5,1 mm dick ist.']\n",
      " > Processing time: 1.099442958831787\n",
      " > Real-time factor: 0.03810118509417498\n",
      " > Text splitted to sentences.\n",
      "['Das ist das bisher dünnste Gerät von Apple.', 'Ich frage mich.', 'Wird es brechen, wenn man es in eine Röhre einrollt?', 'Das Display ist nicht einfach nur ein Display, es ist OLED.', 'Und es ist nicht nur ein OLED, sondern ein Dual-OLED.', 'Mit einer Helligkeit von 1000 nits über das gesamte Feld und einer Spitze von 1600 nits.', 'Ich bin sicher, dass der Bildschirm traditionell spektakulär sein wird.']\n",
      " > Processing time: 1.0714056491851807\n",
      " > Real-time factor: 0.037783231666197375\n",
      " > Text splitted to sentences.\n",
      "['Eisen.', 'Das ist der Punkt, an dem es interessant wird.', 'Aufgrund des dünnen Gehäuses konnte M3 nicht hineinpassen.', 'Wir mussten dringend M4 erfinden, der dann doch hineinpasste.', 'Das System auf dem Chip ist auf dem 3-Nanometer-Prozess der zweiten Generation aufgebaut.', 'Es hat 4 leistungsstarke Kerne, 6 effiziente Kerne, 10-Kern-Grafik.']\n",
      " > Processing time: 0.8427741527557373\n",
      " > Real-time factor: 0.03530022883917392\n",
      " > Text splitted to sentences.\n",
      "['Und einen Haufen anderer Funktionen.', 'Und das Ganze soll sich nicht einmal wie eine Bratpfanne erhitzen.', 'Es ist mit Graphen gebaut.', 'Und das Logo auf der Rückseite ist aus Kupfer.', 'Über iPadOS wurde noch nicht viel gesagt.', 'Herr Will Hui, so heißt er, warum lachen Sie eigentlich, erzählte über das Final Cut Update, die neue Final Cut Camera Anwendung für die fortgeschrittene Arbeit mit Cartoons während der Arbeit.']\n",
      " > Processing time: 1.075566291809082\n",
      " > Real-time factor: 0.03837082049959594\n",
      " > Text splitted to sentences.\n",
      "['Und Logic Pro, das ebenfalls aktualisiert und in jeder Hinsicht verbessert und noch professioneller gemacht wurde.', 'Wenn du noch Geld übrig hast, solltest du bedenken, dass das Magic Keyboard komplett neu gestaltet wurde.', 'Es ist jetzt auch schlanker, mit einer Reihe von Funktionstasten und einem größeren Trackpad.', 'Die Preise liegen bei 300 $ bzw.', '350 $.']\n",
      " > Processing time: 0.9785854816436768\n",
      " > Real-time factor: 0.041658577113341116\n",
      " > Text splitted to sentences.\n",
      "['Nun ist der Brei, auf den wir alle gewartet haben, endlich da.', 'Der neue Apple Pencil Pro.', 'Das ist ein ganz anderes Niveau.', 'Es gibt einen neuen Sensor in der Spitze des Stiftes und der Pencil kann zusammengedrückt werden.', 'Das Gyroskop wurde aktualisiert, und der Pencil kann jetzt auch im Locator gesucht werden.', 'Funktioniert mit dem neuen Pro, Air.']\n",
      " > Processing time: 0.9860763549804688\n",
      " > Real-time factor: 0.040963901751596386\n",
      " > Text splitted to sentences.\n",
      "[\"Das war's.\", 'Worauf wartest du noch?', '130 Dollar, die Kasse ist da drüben, geh bezahlen.', 'Und natürlich das iPad mini, das dringend ein Upgrade brauchte.', 'Denn mit so einem Bildschirm kann man im Jahr 24 nirgendwo hingehen.', 'Also haben sie es nicht einmal erwähnt.', \"Das war's dann.\", 'Auf Wiedersehen, allerseits.']\n",
      " > Processing time: 1.027550458908081\n",
      " > Real-time factor: 0.04160085123920973\n",
      "CPU times: user 8.9 s, sys: 1.84 s, total: 10.7 s\n",
      "Wall time: 11.3 s\n"
     ]
    }
   ],
   "source": [
    "%%time\n",
    "from ipywidgets import IntProgress\n",
    "from IPython.display import display\n",
    "from random import randint\n",
    "\n",
    "f = IntProgress(min=0, max=len(segments)) # instantiate the bar\n",
    "display(f)\n",
    "sample_segment = randint(0, len(segments))\n",
    "sample_wav = f'cache/{sample_segment}_sample.wav'\n",
    "make_sample_audio(segments[sample_segment]['start'], segments[sample_segment]['end'], out_file, sample_wav)\n",
    "\n",
    "for i in range(0, len(segments)):\n",
    "    tts.tts_to_file(\n",
    "        text=segments[i]['translated'],\n",
    "        speaker_wav=sample_wav if multi_speaker else None,\n",
    "        language=TARGET_LANGUAGE.lower() if multi_language else None,\n",
    "        file_path=f\"cache/{i}.wav\"\n",
    "    )\n",
    "    f.value += 1"
   ]
  },
  {
   "cell_type": "markdown",
   "metadata": {},
   "source": [
    "Now fix audio speed to match original audio track"
   ]
  },
  {
   "cell_type": "code",
   "execution_count": 34,
   "metadata": {},
   "outputs": [],
   "source": [
    "import subprocess\n",
    "import shlex\n",
    "import shutil\n",
    "import json\n",
    "\n",
    "def get_audio_duration(path):\n",
    "    cmd = \"ffprobe -v quiet -print_format json -show_streams\"\n",
    "    args = shlex.split(cmd)\n",
    "    args.append(path)\n",
    "    # run the ffprobe process, decode stdout into utf-8 & convert to JSON\n",
    "    ffprobeOutput = subprocess.check_output(args).decode(\"utf-8\")\n",
    "    ffprobeOutput = json.loads(ffprobeOutput)\n",
    "    return float(ffprobeOutput[\"streams\"][0][\"duration\"])\n",
    "\n",
    "translated_total_duration = 0\n",
    "original_audio_duration = get_audio_duration(out_file)\n",
    "\n",
    "for i in range(0, len(segments)):\n",
    "    translated_audio = f\"cache/{i}.wav\"\n",
    "    tempo_audio = f\"cache/{i}_tempo.wav\"\n",
    "    translated_duration = get_audio_duration(translated_audio)\n",
    "    original_duration = segments[i]['end'] - segments[i]['start']\n",
    "    \n",
    "    if original_duration < translated_duration:\n",
    "        # Original is shorter than translated audio. Increase sound tempo\n",
    "        atempo = translated_duration / original_duration\n",
    "        if atempo > 1.35:\n",
    "            atempo = 1.35\n",
    "        ffmpeg = (\n",
    "            FFmpeg()\n",
    "            .option(\"y\")\n",
    "            .input(translated_audio)\n",
    "            .output(\n",
    "                tempo_audio,\n",
    "                acodec=\"pcm_s16le\",\n",
    "                ar=24000,\n",
    "                ac=2,\n",
    "                af=f\"[0]atempo={atempo:.2f}[t0]\",\n",
    "            )\n",
    "        )\n",
    "        ffmpeg.execute()\n",
    "        shutil.move(tempo_audio, translated_audio)\n",
    "    translated_total_duration += get_audio_duration(translated_audio)"
   ]
  },
  {
   "cell_type": "markdown",
   "metadata": {},
   "source": [
    "# Work with video"
   ]
  },
  {
   "cell_type": "markdown",
   "metadata": {
    "id": "OMd_uRO_IoZE"
   },
   "source": [
    "Download video file"
   ]
  },
  {
   "cell_type": "code",
   "execution_count": 35,
   "metadata": {},
   "outputs": [],
   "source": [
    "stream = yt.streams.filter(resolution=\"720p\").first()\n",
    "vid_file = stream.download(output_path=dst_path, filename=\"video.mp4\")"
   ]
  },
  {
   "cell_type": "markdown",
   "metadata": {},
   "source": [
    "Combine audio segments with video"
   ]
  },
  {
   "cell_type": "code",
   "execution_count": 36,
   "metadata": {},
   "outputs": [
    {
     "name": "stdout",
     "output_type": "stream",
     "text": [
      "CPU times: user 14.2 ms, sys: 86 µs, total: 14.3 ms\n",
      "Wall time: 14 s\n"
     ]
    }
   ],
   "source": [
    "%%time\n",
    "import os\n",
    "\n",
    "for i in range(0, len(segments)):\n",
    "    audio_duration = get_audio_duration(f'cache/{i}.wav')\n",
    "    video_duration = segments[i]['end'] - segments[i]['start']\n",
    "    pts_ratio = audio_duration / video_duration\n",
    "    if pts_ratio < 1.0:\n",
    "        pts_ration = 1.0\n",
    "    to_str = f\"-to {segments[i+1]['start']} \" if i != len(segments)-1 else \"\"\n",
    "    cmd = f\"{ffmpeg_path} -loglevel 8 -y \" \\\n",
    "        + f\"-accurate_seek -ss {segments[i]['start']} \" \\\n",
    "        + to_str \\\n",
    "        + f\"-i {vid_file} \" \\\n",
    "        + f\"-i cache/{i}.wav \" \\\n",
    "        + f\"-c:v {video_codec} \" \\\n",
    "        + f\"-c:a {audio_codec} -ab {audio_bitrate} \" \\\n",
    "        + f\"-filter_complex \\\"[0:v]setpts={pts_ratio:.2f}*PTS[v];[0:a][1]amix=inputs=2:duration=longest:weights='0.05 1'[a]\\\" \" \\\n",
    "        + f\"-map \\\"[v]\\\" -map \\\"[a]\\\" cache/{i}_video.mp4\"\n",
    "    os.system(cmd)"
   ]
  },
  {
   "cell_type": "markdown",
   "metadata": {},
   "source": [
    "## Combine resulted audio with youtube video"
   ]
  },
  {
   "cell_type": "code",
   "execution_count": 37,
   "metadata": {},
   "outputs": [
    {
     "data": {
      "text/plain": [
       "0"
      ]
     },
     "execution_count": 37,
     "metadata": {},
     "output_type": "execute_result"
    }
   ],
   "source": [
    "list = []\n",
    "for i in range(0, len(segments)):\n",
    "    list.append(f'file {i}_video.mp4')\n",
    "    \n",
    "with open(\"cache/list.txt\", \"w\") as text_file:\n",
    "    text_file.write(\"\\n\".join(list))\n",
    "\n",
    "os.system(f'ffmpeg -loglevel 8 -y -f concat -i cache/list.txt -c copy result.mp4')"
   ]
  },
  {
   "cell_type": "code",
   "execution_count": null,
   "metadata": {},
   "outputs": [],
   "source": []
  }
 ],
 "metadata": {
  "accelerator": "GPU",
  "colab": {
   "gpuType": "T4",
   "provenance": []
  },
  "kernelspec": {
   "display_name": "Python 3 (ipykernel)",
   "language": "python",
   "name": "python3"
  },
  "language_info": {
   "codemirror_mode": {
    "name": "ipython",
    "version": 3
   },
   "file_extension": ".py",
   "mimetype": "text/x-python",
   "name": "python",
   "nbconvert_exporter": "python",
   "pygments_lexer": "ipython3",
   "version": "3.11.9"
  }
 },
 "nbformat": 4,
 "nbformat_minor": 4
}
